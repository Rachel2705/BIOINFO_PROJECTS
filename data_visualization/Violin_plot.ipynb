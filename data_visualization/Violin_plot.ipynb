# Import necessary libraries
import matplotlib.pyplot as plt
import seaborn as sns
import numpy as np
import pandas as pd

# Enable inline plotting for Jupyter Notebook in VSCode
%matplotlib inline

# Set a seed for reproducibility
np.random.seed(42)

# Simulate gene expression data for a few genes and experimental conditions
genes = ['Gene A', 'Gene B', 'Gene C']
conditions = ['Condition 1', 'Condition 2']

# Generate random gene expression data
data = {
    'Gene': np.repeat(genes, len(conditions)),
    'Condition': np.tile(conditions, len(genes)),
    'Expression': np.random.uniform(low=0, high=100, size=len(genes) * len(conditions))
}

# Create a DataFrame to store the simulated data
df = pd.DataFrame(data)

# Create an amazing and visually appealing violin plot
plt.figure(figsize=(10, 6))
sns.set(style="whitegrid")

# Use a violin plot to visualize the distribution of gene expression across experimental conditions
sns.violinplot(
    x='Gene', y='Expression', hue='Condition', data=df,
    split=True, inner="quart", palette="muted"
)

# Set plot title and axis labels
plt.title('Gene Expression Across Experimental Conditions')
plt.xlabel('Genes')
plt.ylabel('Expression Level')

# Add a legend to differentiate conditions
plt.legend(title='Experimental Condition')

# Display the plot inline
plt.show()
