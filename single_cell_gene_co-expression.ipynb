{
 "cells": [
  {
   "cell_type": "code",
   "execution_count": null,
   "id": "a664602f",
   "metadata": {},
   "outputs": [],
   "source": [
    "'''\n",
    "Are two selected genes co-expressed?\n",
    "\n",
    "Are any genes co-expressed with a selected gene?\n",
    "\n",
    "'''"
   ]
  },
  {
   "cell_type": "code",
   "execution_count": 1,
   "id": "afc181a0",
   "metadata": {},
   "outputs": [],
   "source": [
    "import scanpy as sc\n",
    "from scipy import stats\n",
    "import numpy as np\n",
    "import pandas as pd"
   ]
  },
  {
   "cell_type": "code",
   "execution_count": 2,
   "id": "e3b218c6",
   "metadata": {},
   "outputs": [
    {
     "name": "stderr",
     "output_type": "stream",
     "text": [
      "/home/jrlab2019/miniconda3/envs/sc/lib/python3.9/site-packages/scanpy/preprocessing/_normalization.py:170: UserWarning: Received a view of an AnnData. Making a copy.\n",
      "  view_to_actual(adata)\n"
     ]
    }
   ],
   "source": [
    "#simple import and preprocessing\n",
    "adata = sc.read_10x_mtx('../tutorial_sample/outs/filtered_feature_bc_matrix/')\n",
    "sc.pp.filter_cells(adata, min_genes=200)\n",
    "sc.pp.filter_genes(adata, min_cells=3)\n",
    "adata.var['mt'] = adata.var_names.str.startswith('MT-') \n",
    "sc.pp.calculate_qc_metrics(adata, qc_vars=['mt'], percent_top=None, log1p=False, inplace=True)\n",
    "adata = adata[adata.obs.pct_counts_mt < 20]\n",
    "sc.pp.normalize_total(adata, target_sum=1e4)"
   ]
  },
  {
   "cell_type": "code",
   "execution_count": 3,
   "id": "fb29b19e",
   "metadata": {},
   "outputs": [
    {
     "data": {
      "text/plain": [
       "AnnData object with n_obs × n_vars = 8093 × 21949\n",
       "    obs: 'n_genes', 'n_genes_by_counts', 'total_counts', 'total_counts_mt', 'pct_counts_mt'\n",
       "    var: 'gene_ids', 'feature_types', 'n_cells', 'mt', 'n_cells_by_counts', 'mean_counts', 'pct_dropout_by_counts', 'total_counts'"
      ]
     },
     "execution_count": 3,
     "metadata": {},
     "output_type": "execute_result"
    }
   ],
   "source": [
    "adata"
   ]
  },
  {
   "cell_type": "code",
   "execution_count": 4,
   "id": "89fb17ac",
   "metadata": {},
   "outputs": [
    {
     "data": {
      "text/plain": [
       "Index(['AL627309.1', 'AL627309.5', 'LINC01409', 'FAM87B', 'LINC01128',\n",
       "       'LINC00115', 'FAM41C', 'AL645608.2', 'AL645608.4', 'LINC02593',\n",
       "       ...\n",
       "       'MT-CYB', 'BX004987.1', 'AC145212.1', 'MAFIP', 'AC011043.1',\n",
       "       'AL354822.1', 'AL592183.1', 'AC240274.1', 'AC007325.4', 'zika'],\n",
       "      dtype='object', length=21949)"
      ]
     },
     "execution_count": 4,
     "metadata": {},
     "output_type": "execute_result"
    }
   ],
   "source": [
    "adata.var_names"
   ]
  },
  {
   "cell_type": "code",
   "execution_count": 10,
   "id": "b060f1a0",
   "metadata": {},
   "outputs": [],
   "source": [
    "i1 = np.where(adata.var_names == 'zika')[0][0]"
   ]
  },
  {
   "cell_type": "code",
   "execution_count": 11,
   "id": "6e02a079",
   "metadata": {},
   "outputs": [],
   "source": [
    "i2 = np.where(adata.var_names == 'IFITM1')[0][0]"
   ]
  },
  {
   "cell_type": "code",
   "execution_count": 9,
   "id": "87801fdb",
   "metadata": {},
   "outputs": [
    {
     "data": {
      "text/plain": [
       "(8093, 21949)"
      ]
     },
     "execution_count": 9,
     "metadata": {},
     "output_type": "execute_result"
    }
   ],
   "source": [
    "data = adata.X.toarray()\n",
    "data.shape"
   ]
  },
  {
   "cell_type": "code",
   "execution_count": 12,
   "id": "4a024686",
   "metadata": {},
   "outputs": [
    {
     "data": {
      "text/plain": [
       "array([ 0.        ,  0.3849559 ,  0.47232196, ..., 83.49873   ,\n",
       "        0.        ,  0.        ], dtype=float32)"
      ]
     },
     "execution_count": 12,
     "metadata": {},
     "output_type": "execute_result"
    }
   ],
   "source": [
    "data[:, i1]"
   ]
  },
  {
   "cell_type": "code",
   "execution_count": 13,
   "id": "c4f5a8ca",
   "metadata": {},
   "outputs": [
    {
     "data": {
      "text/plain": [
       "(-0.004018901858421179, 0.7177328380898428)"
      ]
     },
     "execution_count": 13,
     "metadata": {},
     "output_type": "execute_result"
    }
   ],
   "source": [
    "stats.pearsonr(data[:, i1], data[:, i2])"
   ]
  },
  {
   "cell_type": "code",
   "execution_count": 14,
   "id": "4914ceda",
   "metadata": {},
   "outputs": [],
   "source": [
    "out = []\n",
    "for gene in adata.var_names:\n",
    "    i2 = np.where(adata.var_names == gene)[0][0]\n",
    "    res = stats.pearsonr(data[:, i1], data[:, i2])\n",
    "    out.append([gene, res[0], res[1]])"
   ]
  },
  {
   "cell_type": "code",
   "execution_count": 15,
   "id": "8ae63171",
   "metadata": {},
   "outputs": [
    {
     "data": {
      "text/html": [
       "<div>\n",
       "<style scoped>\n",
       "    .dataframe tbody tr th:only-of-type {\n",
       "        vertical-align: middle;\n",
       "    }\n",
       "\n",
       "    .dataframe tbody tr th {\n",
       "        vertical-align: top;\n",
       "    }\n",
       "\n",
       "    .dataframe thead th {\n",
       "        text-align: right;\n",
       "    }\n",
       "</style>\n",
       "<table border=\"1\" class=\"dataframe\">\n",
       "  <thead>\n",
       "    <tr style=\"text-align: right;\">\n",
       "      <th></th>\n",
       "      <th>gene</th>\n",
       "      <th>r</th>\n",
       "      <th>p</th>\n",
       "    </tr>\n",
       "  </thead>\n",
       "  <tbody>\n",
       "    <tr>\n",
       "      <th>0</th>\n",
       "      <td>AL627309.1</td>\n",
       "      <td>0.007712</td>\n",
       "      <td>4.878679e-01</td>\n",
       "    </tr>\n",
       "    <tr>\n",
       "      <th>1</th>\n",
       "      <td>AL627309.5</td>\n",
       "      <td>-0.000773</td>\n",
       "      <td>9.445847e-01</td>\n",
       "    </tr>\n",
       "    <tr>\n",
       "      <th>2</th>\n",
       "      <td>LINC01409</td>\n",
       "      <td>0.037610</td>\n",
       "      <td>7.140523e-04</td>\n",
       "    </tr>\n",
       "    <tr>\n",
       "      <th>3</th>\n",
       "      <td>FAM87B</td>\n",
       "      <td>-0.003992</td>\n",
       "      <td>7.195206e-01</td>\n",
       "    </tr>\n",
       "    <tr>\n",
       "      <th>4</th>\n",
       "      <td>LINC01128</td>\n",
       "      <td>-0.008512</td>\n",
       "      <td>4.438714e-01</td>\n",
       "    </tr>\n",
       "    <tr>\n",
       "      <th>...</th>\n",
       "      <td>...</td>\n",
       "      <td>...</td>\n",
       "      <td>...</td>\n",
       "    </tr>\n",
       "    <tr>\n",
       "      <th>21944</th>\n",
       "      <td>AL354822.1</td>\n",
       "      <td>-0.013347</td>\n",
       "      <td>2.299292e-01</td>\n",
       "    </tr>\n",
       "    <tr>\n",
       "      <th>21945</th>\n",
       "      <td>AL592183.1</td>\n",
       "      <td>0.004540</td>\n",
       "      <td>6.830051e-01</td>\n",
       "    </tr>\n",
       "    <tr>\n",
       "      <th>21946</th>\n",
       "      <td>AC240274.1</td>\n",
       "      <td>0.110236</td>\n",
       "      <td>2.633133e-23</td>\n",
       "    </tr>\n",
       "    <tr>\n",
       "      <th>21947</th>\n",
       "      <td>AC007325.4</td>\n",
       "      <td>0.020117</td>\n",
       "      <td>7.034826e-02</td>\n",
       "    </tr>\n",
       "    <tr>\n",
       "      <th>21948</th>\n",
       "      <td>zika</td>\n",
       "      <td>1.000000</td>\n",
       "      <td>0.000000e+00</td>\n",
       "    </tr>\n",
       "  </tbody>\n",
       "</table>\n",
       "<p>21949 rows × 3 columns</p>\n",
       "</div>"
      ],
      "text/plain": [
       "             gene         r             p\n",
       "0      AL627309.1  0.007712  4.878679e-01\n",
       "1      AL627309.5 -0.000773  9.445847e-01\n",
       "2       LINC01409  0.037610  7.140523e-04\n",
       "3          FAM87B -0.003992  7.195206e-01\n",
       "4       LINC01128 -0.008512  4.438714e-01\n",
       "...           ...       ...           ...\n",
       "21944  AL354822.1 -0.013347  2.299292e-01\n",
       "21945  AL592183.1  0.004540  6.830051e-01\n",
       "21946  AC240274.1  0.110236  2.633133e-23\n",
       "21947  AC007325.4  0.020117  7.034826e-02\n",
       "21948        zika  1.000000  0.000000e+00\n",
       "\n",
       "[21949 rows x 3 columns]"
      ]
     },
     "execution_count": 15,
     "metadata": {},
     "output_type": "execute_result"
    }
   ],
   "source": [
    "df = pd.DataFrame(out, columns = ['gene', 'r', 'p'])\n",
    "df"
   ]
  },
  {
   "cell_type": "code",
   "execution_count": 16,
   "id": "6dd2805b",
   "metadata": {},
   "outputs": [
    {
     "name": "stderr",
     "output_type": "stream",
     "text": [
      "/home/jrlab2019/miniconda3/envs/sc/lib/python3.9/site-packages/pandas/core/arraylike.py:397: RuntimeWarning: divide by zero encountered in log10\n",
      "  result = getattr(ufunc, method)(*inputs, **kwargs)\n"
     ]
    },
    {
     "data": {
      "text/html": [
       "<div>\n",
       "<style scoped>\n",
       "    .dataframe tbody tr th:only-of-type {\n",
       "        vertical-align: middle;\n",
       "    }\n",
       "\n",
       "    .dataframe tbody tr th {\n",
       "        vertical-align: top;\n",
       "    }\n",
       "\n",
       "    .dataframe thead th {\n",
       "        text-align: right;\n",
       "    }\n",
       "</style>\n",
       "<table border=\"1\" class=\"dataframe\">\n",
       "  <thead>\n",
       "    <tr style=\"text-align: right;\">\n",
       "      <th></th>\n",
       "      <th>gene</th>\n",
       "      <th>r</th>\n",
       "      <th>p</th>\n",
       "      <th>bon</th>\n",
       "      <th>-log10_p</th>\n",
       "    </tr>\n",
       "  </thead>\n",
       "  <tbody>\n",
       "    <tr>\n",
       "      <th>0</th>\n",
       "      <td>AL627309.1</td>\n",
       "      <td>0.007712</td>\n",
       "      <td>4.878679e-01</td>\n",
       "      <td>1.070821e+04</td>\n",
       "      <td>0.311698</td>\n",
       "    </tr>\n",
       "    <tr>\n",
       "      <th>1</th>\n",
       "      <td>AL627309.5</td>\n",
       "      <td>-0.000773</td>\n",
       "      <td>9.445847e-01</td>\n",
       "      <td>2.073269e+04</td>\n",
       "      <td>0.024759</td>\n",
       "    </tr>\n",
       "    <tr>\n",
       "      <th>2</th>\n",
       "      <td>LINC01409</td>\n",
       "      <td>0.037610</td>\n",
       "      <td>7.140523e-04</td>\n",
       "      <td>1.567273e+01</td>\n",
       "      <td>3.146270</td>\n",
       "    </tr>\n",
       "    <tr>\n",
       "      <th>3</th>\n",
       "      <td>FAM87B</td>\n",
       "      <td>-0.003992</td>\n",
       "      <td>7.195206e-01</td>\n",
       "      <td>1.579276e+04</td>\n",
       "      <td>0.142957</td>\n",
       "    </tr>\n",
       "    <tr>\n",
       "      <th>4</th>\n",
       "      <td>LINC01128</td>\n",
       "      <td>-0.008512</td>\n",
       "      <td>4.438714e-01</td>\n",
       "      <td>9.742533e+03</td>\n",
       "      <td>0.352743</td>\n",
       "    </tr>\n",
       "    <tr>\n",
       "      <th>...</th>\n",
       "      <td>...</td>\n",
       "      <td>...</td>\n",
       "      <td>...</td>\n",
       "      <td>...</td>\n",
       "      <td>...</td>\n",
       "    </tr>\n",
       "    <tr>\n",
       "      <th>21944</th>\n",
       "      <td>AL354822.1</td>\n",
       "      <td>-0.013347</td>\n",
       "      <td>2.299292e-01</td>\n",
       "      <td>5.046717e+03</td>\n",
       "      <td>0.638406</td>\n",
       "    </tr>\n",
       "    <tr>\n",
       "      <th>21945</th>\n",
       "      <td>AL592183.1</td>\n",
       "      <td>0.004540</td>\n",
       "      <td>6.830051e-01</td>\n",
       "      <td>1.499128e+04</td>\n",
       "      <td>0.165576</td>\n",
       "    </tr>\n",
       "    <tr>\n",
       "      <th>21946</th>\n",
       "      <td>AC240274.1</td>\n",
       "      <td>0.110236</td>\n",
       "      <td>2.633133e-23</td>\n",
       "      <td>5.779463e-19</td>\n",
       "      <td>22.579527</td>\n",
       "    </tr>\n",
       "    <tr>\n",
       "      <th>21947</th>\n",
       "      <td>AC007325.4</td>\n",
       "      <td>0.020117</td>\n",
       "      <td>7.034826e-02</td>\n",
       "      <td>1.544074e+03</td>\n",
       "      <td>1.152747</td>\n",
       "    </tr>\n",
       "    <tr>\n",
       "      <th>21948</th>\n",
       "      <td>zika</td>\n",
       "      <td>1.000000</td>\n",
       "      <td>0.000000e+00</td>\n",
       "      <td>0.000000e+00</td>\n",
       "      <td>inf</td>\n",
       "    </tr>\n",
       "  </tbody>\n",
       "</table>\n",
       "<p>21949 rows × 5 columns</p>\n",
       "</div>"
      ],
      "text/plain": [
       "             gene         r             p           bon   -log10_p\n",
       "0      AL627309.1  0.007712  4.878679e-01  1.070821e+04   0.311698\n",
       "1      AL627309.5 -0.000773  9.445847e-01  2.073269e+04   0.024759\n",
       "2       LINC01409  0.037610  7.140523e-04  1.567273e+01   3.146270\n",
       "3          FAM87B -0.003992  7.195206e-01  1.579276e+04   0.142957\n",
       "4       LINC01128 -0.008512  4.438714e-01  9.742533e+03   0.352743\n",
       "...           ...       ...           ...           ...        ...\n",
       "21944  AL354822.1 -0.013347  2.299292e-01  5.046717e+03   0.638406\n",
       "21945  AL592183.1  0.004540  6.830051e-01  1.499128e+04   0.165576\n",
       "21946  AC240274.1  0.110236  2.633133e-23  5.779463e-19  22.579527\n",
       "21947  AC007325.4  0.020117  7.034826e-02  1.544074e+03   1.152747\n",
       "21948        zika  1.000000  0.000000e+00  0.000000e+00        inf\n",
       "\n",
       "[21949 rows x 5 columns]"
      ]
     },
     "execution_count": 16,
     "metadata": {},
     "output_type": "execute_result"
    }
   ],
   "source": [
    "df['bon'] = df.p * len(df)\n",
    "df['-log10_p'] = -np.log10(df.p)\n",
    "\n",
    "df"
   ]
  },
  {
   "cell_type": "code",
   "execution_count": 18,
   "id": "e58c8438",
   "metadata": {},
   "outputs": [
    {
     "data": {
      "text/html": [
       "<div>\n",
       "<style scoped>\n",
       "    .dataframe tbody tr th:only-of-type {\n",
       "        vertical-align: middle;\n",
       "    }\n",
       "\n",
       "    .dataframe tbody tr th {\n",
       "        vertical-align: top;\n",
       "    }\n",
       "\n",
       "    .dataframe thead th {\n",
       "        text-align: right;\n",
       "    }\n",
       "</style>\n",
       "<table border=\"1\" class=\"dataframe\">\n",
       "  <thead>\n",
       "    <tr style=\"text-align: right;\">\n",
       "      <th></th>\n",
       "      <th>gene</th>\n",
       "      <th>r</th>\n",
       "      <th>p</th>\n",
       "      <th>bon</th>\n",
       "      <th>-log10_p</th>\n",
       "    </tr>\n",
       "  </thead>\n",
       "  <tbody>\n",
       "    <tr>\n",
       "      <th>0</th>\n",
       "      <td>zika</td>\n",
       "      <td>1.000000</td>\n",
       "      <td>0.000000e+00</td>\n",
       "      <td>0.000000e+00</td>\n",
       "      <td>inf</td>\n",
       "    </tr>\n",
       "    <tr>\n",
       "      <th>1</th>\n",
       "      <td>IFIT2</td>\n",
       "      <td>0.319031</td>\n",
       "      <td>7.119685e-191</td>\n",
       "      <td>1.562700e-186</td>\n",
       "      <td>190.147539</td>\n",
       "    </tr>\n",
       "    <tr>\n",
       "      <th>2</th>\n",
       "      <td>OASL</td>\n",
       "      <td>0.299120</td>\n",
       "      <td>6.186299e-167</td>\n",
       "      <td>1.357831e-162</td>\n",
       "      <td>166.208569</td>\n",
       "    </tr>\n",
       "    <tr>\n",
       "      <th>3</th>\n",
       "      <td>IFIT1</td>\n",
       "      <td>0.247911</td>\n",
       "      <td>1.291226e-113</td>\n",
       "      <td>2.834112e-109</td>\n",
       "      <td>112.888998</td>\n",
       "    </tr>\n",
       "    <tr>\n",
       "      <th>4</th>\n",
       "      <td>DDX58</td>\n",
       "      <td>0.243737</td>\n",
       "      <td>9.033933e-110</td>\n",
       "      <td>1.982858e-105</td>\n",
       "      <td>109.044123</td>\n",
       "    </tr>\n",
       "    <tr>\n",
       "      <th>...</th>\n",
       "      <td>...</td>\n",
       "      <td>...</td>\n",
       "      <td>...</td>\n",
       "      <td>...</td>\n",
       "      <td>...</td>\n",
       "    </tr>\n",
       "    <tr>\n",
       "      <th>693</th>\n",
       "      <td>RAE1</td>\n",
       "      <td>0.052628</td>\n",
       "      <td>2.169152e-06</td>\n",
       "      <td>4.761072e-02</td>\n",
       "      <td>5.663710</td>\n",
       "    </tr>\n",
       "    <tr>\n",
       "      <th>694</th>\n",
       "      <td>EXOSC4</td>\n",
       "      <td>0.052628</td>\n",
       "      <td>2.169169e-06</td>\n",
       "      <td>4.761109e-02</td>\n",
       "      <td>5.663707</td>\n",
       "    </tr>\n",
       "    <tr>\n",
       "      <th>695</th>\n",
       "      <td>AC016747.1</td>\n",
       "      <td>0.052623</td>\n",
       "      <td>2.173228e-06</td>\n",
       "      <td>4.770018e-02</td>\n",
       "      <td>5.662895</td>\n",
       "    </tr>\n",
       "    <tr>\n",
       "      <th>696</th>\n",
       "      <td>PPM1L</td>\n",
       "      <td>0.052611</td>\n",
       "      <td>2.184895e-06</td>\n",
       "      <td>4.795627e-02</td>\n",
       "      <td>5.660569</td>\n",
       "    </tr>\n",
       "    <tr>\n",
       "      <th>697</th>\n",
       "      <td>FUNDC2</td>\n",
       "      <td>-0.052538</td>\n",
       "      <td>2.256946e-06</td>\n",
       "      <td>4.953771e-02</td>\n",
       "      <td>5.646479</td>\n",
       "    </tr>\n",
       "  </tbody>\n",
       "</table>\n",
       "<p>698 rows × 5 columns</p>\n",
       "</div>"
      ],
      "text/plain": [
       "           gene         r              p            bon    -log10_p\n",
       "0          zika  1.000000   0.000000e+00   0.000000e+00         inf\n",
       "1         IFIT2  0.319031  7.119685e-191  1.562700e-186  190.147539\n",
       "2          OASL  0.299120  6.186299e-167  1.357831e-162  166.208569\n",
       "3         IFIT1  0.247911  1.291226e-113  2.834112e-109  112.888998\n",
       "4         DDX58  0.243737  9.033933e-110  1.982858e-105  109.044123\n",
       "..          ...       ...            ...            ...         ...\n",
       "693        RAE1  0.052628   2.169152e-06   4.761072e-02    5.663710\n",
       "694      EXOSC4  0.052628   2.169169e-06   4.761109e-02    5.663707\n",
       "695  AC016747.1  0.052623   2.173228e-06   4.770018e-02    5.662895\n",
       "696       PPM1L  0.052611   2.184895e-06   4.795627e-02    5.660569\n",
       "697      FUNDC2 -0.052538   2.256946e-06   4.953771e-02    5.646479\n",
       "\n",
       "[698 rows x 5 columns]"
      ]
     },
     "execution_count": 18,
     "metadata": {},
     "output_type": "execute_result"
    }
   ],
   "source": [
    "df = df[df.bon < 0.05].sort_values('bon').reset_index(drop = True)\n",
    "df"
   ]
  },
  {
   "cell_type": "code",
   "execution_count": 20,
   "id": "14cacf15",
   "metadata": {},
   "outputs": [
    {
     "data": {
      "image/png": "[encoded data removed]",
      "text/plain": [
       "<Figure size 216x360 with 1 Axes>"
      ]
     },
     "metadata": {
      "needs_background": "light"
     },
     "output_type": "display_data"
    }
   ],
   "source": [
    "import seaborn as sns\n",
    "import matplotlib.pyplot as plt\n",
    "\n",
    "plt.figure(figsize = (3,5))\n",
    "\n",
    "ax = sns.barplot(data = df[1:16], x = '-log10_p', y = 'gene', color = 'grey')\n",
    "\n",
    "plt.show()\n"
   ]
  },
  {
   "cell_type": "code",
   "execution_count": null,
   "id": "cb162306",
   "metadata": {},
   "outputs": [],
   "source": []
  },
  {
   "cell_type": "code",
   "execution_count": null,
   "id": "b9e4915d",
   "metadata": {},
   "outputs": [],
   "source": []
  },
  {
   "cell_type": "code",
   "execution_count": null,
   "id": "c7c9b80d",
   "metadata": {},
   "outputs": [],
   "source": []
  },
  {
   "cell_type": "code",
   "execution_count": null,
   "id": "3f4d5cd6",
   "metadata": {},
   "outputs": [],
   "source": []
  },
  {
   "cell_type": "code",
   "execution_count": null,
   "id": "9aad4a5c",
   "metadata": {},
   "outputs": [],
   "source": []
  },
  {
   "cell_type": "code",
   "execution_count": null,
   "id": "aeee62a7",
   "metadata": {},
   "outputs": [],
   "source": []
  },
  {
   "cell_type": "code",
   "execution_count": null,
   "id": "fae68899",
   "metadata": {},
   "outputs": [],
   "source": []
  },
  {
   "cell_type": "code",
   "execution_count": null,
   "id": "9a14a5f8",
   "metadata": {},
   "outputs": [],
   "source": []
  },
  {
   "cell_type": "code",
   "execution_count": null,
   "id": "45697472",
   "metadata": {},
   "outputs": [],
   "source": []
  }
 ],
 "metadata": {
  "kernelspec": {
   "display_name": "Python 3 (ipykernel)",
   "language": "python",
   "name": "python3"
  },
  "language_info": {
   "codemirror_mode": {
    "name": "ipython",
    "version": 3
   },
   "file_extension": ".py",
   "mimetype": "text/x-python",
   "name": "python",
   "nbconvert_exporter": "python",
   "pygments_lexer": "ipython3",
   "version": "3.9.12"
  }
 },
 "nbformat": 4,
 "nbformat_minor": 5
}
